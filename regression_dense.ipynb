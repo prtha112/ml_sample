{
  "nbformat": 4,
  "nbformat_minor": 0,
  "metadata": {
    "colab": {
      "provenance": []
    },
    "kernelspec": {
      "name": "python3",
      "display_name": "Python 3"
    },
    "language_info": {
      "name": "python"
    }
  },
  "cells": [
    {
      "cell_type": "code",
      "execution_count": 12,
      "metadata": {
        "id": "-ZMgCvSRFqxE"
      },
      "outputs": [],
      "source": [
        "import tensorflow as tf"
      ]
    },
    {
      "cell_type": "code",
      "execution_count": 13,
      "metadata": {
        "id": "y_WQEM5MGmg3"
      },
      "outputs": [],
      "source": [
        "import numpy as np\n",
        "import logging\n",
        "logger = tf.get_logger()\n",
        "logger.setLevel(logging.ERROR)"
      ]
    },
    {
      "cell_type": "code",
      "source": [
        "celsius_q    = np.array([-40, -10,  0,  8, 15, 22,  38],  dtype=float)\n",
        "fahrenheit_a = np.array([-40,  14, 32, 46, 59, 72, 100],  dtype=float)\n",
        "\n",
        "for i,c in enumerate(celsius_q):\n",
        "  print(\"{} degrees Celsius = {} degrees Fahrenheit\".format(c, fahrenheit_a[i]))"
      ],
      "metadata": {
        "colab": {
          "base_uri": "https://localhost:8080/"
        },
        "id": "ctz0BXnomaHH",
        "outputId": "dd31320f-ec96-4e51-d9cd-d49a4bb9a141"
      },
      "execution_count": 14,
      "outputs": [
        {
          "output_type": "stream",
          "name": "stdout",
          "text": [
            "-40.0 degrees Celsius = -40.0 degrees Fahrenheit\n",
            "-10.0 degrees Celsius = 14.0 degrees Fahrenheit\n",
            "0.0 degrees Celsius = 32.0 degrees Fahrenheit\n",
            "8.0 degrees Celsius = 46.0 degrees Fahrenheit\n",
            "15.0 degrees Celsius = 59.0 degrees Fahrenheit\n",
            "22.0 degrees Celsius = 72.0 degrees Fahrenheit\n",
            "38.0 degrees Celsius = 100.0 degrees Fahrenheit\n"
          ]
        }
      ]
    },
    {
      "cell_type": "code",
      "execution_count": 15,
      "metadata": {
        "id": "pRllo2HLfXiu"
      },
      "outputs": [],
      "source": [
        "l0 = tf.keras.layers.Dense(units=1, input_shape=[1])"
      ]
    },
    {
      "cell_type": "code",
      "execution_count": 16,
      "metadata": {
        "id": "cSp-GpLSuMRq"
      },
      "outputs": [],
      "source": [
        "model = tf.keras.Sequential([l0])"
      ]
    },
    {
      "cell_type": "code",
      "execution_count": 17,
      "metadata": {
        "id": "m8YQN1H41L-Y"
      },
      "outputs": [],
      "source": [
        "model.compile(loss='mean_squared_error',\n",
        "              optimizer=tf.keras.optimizers.Adam(0.1))"
      ]
    },
    {
      "cell_type": "code",
      "execution_count": 18,
      "metadata": {
        "id": "lpRrl7WK10Pq",
        "colab": {
          "base_uri": "https://localhost:8080/"
        },
        "outputId": "f305318d-ea06-4665-fc26-f4cc0bd378c0"
      },
      "outputs": [
        {
          "output_type": "stream",
          "name": "stdout",
          "text": [
            "Finished training the model\n"
          ]
        }
      ],
      "source": [
        "history = model.fit(celsius_q, fahrenheit_a, epochs=500, verbose=False)\n",
        "print(\"Finished training the model\")"
      ]
    },
    {
      "cell_type": "code",
      "execution_count": 19,
      "metadata": {
        "id": "IeK6BzfbdO6_",
        "colab": {
          "base_uri": "https://localhost:8080/",
          "height": 296
        },
        "outputId": "f09aea69-f5fb-49ba-e274-7dae1f1de3ec"
      },
      "outputs": [
        {
          "output_type": "execute_result",
          "data": {
            "text/plain": [
              "[<matplotlib.lines.Line2D at 0x7f5e28dcafa0>]"
            ]
          },
          "metadata": {},
          "execution_count": 19
        },
        {
          "output_type": "display_data",
          "data": {
            "text/plain": [
              "<Figure size 432x288 with 1 Axes>"
            ],
            "image/png": "[encoded data removed]"
          },
          "metadata": {
            "needs_background": "light"
          }
        }
      ],
      "source": [
        "import matplotlib.pyplot as plt\n",
        "plt.xlabel('Epoch Number')\n",
        "plt.ylabel(\"Loss Magnitude\")\n",
        "plt.plot(history.history['loss'])"
      ]
    },
    {
      "cell_type": "code",
      "execution_count": 20,
      "metadata": {
        "id": "oxNzL4lS2Gui",
        "colab": {
          "base_uri": "https://localhost:8080/"
        },
        "outputId": "93764374-428a-4f48-8a85-046949eeac12"
      },
      "outputs": [
        {
          "output_type": "stream",
          "name": "stdout",
          "text": [
            "1/1 [==============================] - 0s 71ms/step\n",
            "[[211.33803]]\n"
          ]
        }
      ],
      "source": [
        "print(model.predict([100.0]))"
      ]
    },
    {
      "cell_type": "code",
      "execution_count": 21,
      "metadata": {
        "id": "kmIkVdkbnZJI",
        "colab": {
          "base_uri": "https://localhost:8080/"
        },
        "outputId": "db8623a3-90f6-4fab-8b87-14ad0cf3aeae"
      },
      "outputs": [
        {
          "output_type": "stream",
          "name": "stdout",
          "text": [
            "These are the layer variables: [array([[1.8201293]], dtype=float32), array([29.325106], dtype=float32)]\n"
          ]
        }
      ],
      "source": [
        "print(\"These are the layer variables: {}\".format(l0.get_weights()))"
      ]
    },
    {
      "cell_type": "code",
      "execution_count": 22,
      "metadata": {
        "id": "Y2zTA-rDS5Xk",
        "colab": {
          "base_uri": "https://localhost:8080/"
        },
        "outputId": "f49cc97e-fce6-41b4-b6b6-3b72d6f6bddf"
      },
      "outputs": [
        {
          "output_type": "stream",
          "name": "stdout",
          "text": [
            "Finished training the model\n",
            "1/1 [==============================] - 0s 134ms/step\n",
            "[[211.74744]]\n",
            "1/1 [==============================] - 0s 60ms/step\n",
            "Model predicts that 100 degrees Celsius is: [[211.74744]] degrees Fahrenheit\n",
            "These are the l0 variables: [array([[0.01586038, 0.32383502, 0.2046914 , 0.53494614]], dtype=float32), array([-2.6829956,  3.359132 ,  3.7111897,  3.4644427], dtype=float32)]\n",
            "These are the l1 variables: [array([[-0.38897622, -0.1486333 , -1.5367084 , -0.03818046],\n",
            "       [ 0.512535  ,  1.2275107 ,  1.1316249 , -0.10574595],\n",
            "       [-0.5459238 , -1.4465001 ,  0.29319647, -1.6960199 ],\n",
            "       [ 1.4494568 , -0.05423258,  1.2949766 ,  0.46493515]],\n",
            "      dtype=float32), array([ 2.7252362 ,  0.34555748,  3.7164454 , -2.625656  ], dtype=float32)]\n",
            "These are the l2 variables: [array([[ 0.6364419 ],\n",
            "       [-0.04840655],\n",
            "       [ 1.0971752 ],\n",
            "       [-0.57039124]], dtype=float32), array([3.3169754], dtype=float32)]\n"
          ]
        }
      ],
      "source": [
        "l0 = tf.keras.layers.Dense(units=4, input_shape=[1])\n",
        "l1 = tf.keras.layers.Dense(units=4)\n",
        "l2 = tf.keras.layers.Dense(units=1)\n",
        "model = tf.keras.Sequential([l0, l1, l2])\n",
        "model.compile(loss='mean_squared_error', optimizer=tf.keras.optimizers.Adam(0.1))\n",
        "model.fit(celsius_q, fahrenheit_a, epochs=500, verbose=False)\n",
        "print(\"Finished training the model\")\n",
        "print(model.predict([100.0]))\n",
        "print(\"Model predicts that 100 degrees Celsius is: {} degrees Fahrenheit\".format(model.predict([100.0])))\n",
        "print(\"These are the l0 variables: {}\".format(l0.get_weights()))\n",
        "print(\"These are the l1 variables: {}\".format(l1.get_weights()))\n",
        "print(\"These are the l2 variables: {}\".format(l2.get_weights()))"
      ]
    }
  ]
}